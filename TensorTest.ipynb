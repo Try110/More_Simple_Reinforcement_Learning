{
 "cells": [
  {
   "cell_type": "markdown",
   "source": [
    "## item()的使用"
   ],
   "metadata": {
    "collapsed": false
   },
   "id": "c7b642cde657ea8f"
  },
  {
   "cell_type": "code",
   "execution_count": 3,
   "id": "initial_id",
   "metadata": {
    "collapsed": true,
    "ExecuteTime": {
     "end_time": "2023-08-31T07:35:26.947521200Z",
     "start_time": "2023-08-31T07:35:26.833789800Z"
    }
   },
   "outputs": [
    {
     "data": {
      "text/plain": "1"
     },
     "execution_count": 3,
     "metadata": {},
     "output_type": "execute_result"
    }
   ],
   "source": [
    "import torch\n",
    "\n",
    "x = torch.tensor([1])\n",
    "x.item()"
   ]
  },
  {
   "cell_type": "markdown",
   "source": [
    "item只能再tensor长度为1的时候使用"
   ],
   "metadata": {
    "collapsed": false
   },
   "id": "43337114cdfb2a70"
  },
  {
   "cell_type": "markdown",
   "source": [
    "## torch.randn()正态分布采样"
   ],
   "metadata": {
    "collapsed": false
   },
   "id": "68b36a24c0345343"
  },
  {
   "cell_type": "code",
   "execution_count": 35,
   "outputs": [
    {
     "data": {
      "text/plain": "tensor([[[-1.4038,  1.0342, -0.0431],\n         [-0.9076, -1.9549,  1.6726]],\n\n        [[-2.7560, -0.3940, -1.9040],\n         [-1.5726, -0.3273, -0.3428]]])"
     },
     "execution_count": 35,
     "metadata": {},
     "output_type": "execute_result"
    }
   ],
   "source": [
    "temp = []\n",
    "temp.append(torch.randn(2, 3))\n",
    "temp.append(torch.randn(2, 3))\n",
    "temp\n",
    "# x = torch.FloatTensor(temp)\n",
    "\n",
    "val= torch.tensor([item.numpy() for item in temp])\n",
    "val"
   ],
   "metadata": {
    "collapsed": false,
    "ExecuteTime": {
     "end_time": "2023-08-31T09:00:20.221679500Z",
     "start_time": "2023-08-31T09:00:20.205679700Z"
    }
   },
   "id": "4b161d3e9b770377"
  },
  {
   "cell_type": "markdown",
   "source": [
    "可用于测试网络的正常输入输出"
   ],
   "metadata": {
    "collapsed": false
   },
   "id": "79ae2d42a85a4d5d"
  },
  {
   "cell_type": "code",
   "execution_count": 5,
   "outputs": [
    {
     "data": {
      "text/plain": "1.303937786587093"
     },
     "execution_count": 5,
     "metadata": {},
     "output_type": "execute_result"
    }
   ],
   "source": [
    "import random\n",
    "random.normalvariate(1, 0.2)# 正态分布的随机数"
   ],
   "metadata": {
    "collapsed": false,
    "ExecuteTime": {
     "end_time": "2023-08-31T07:35:26.976522200Z",
     "start_time": "2023-08-31T07:35:26.868523600Z"
    }
   },
   "id": "53bb93610fe6b1cd"
  },
  {
   "cell_type": "markdown",
   "source": [
    "## torch.cat函数 拼接tensor"
   ],
   "metadata": {
    "collapsed": false
   },
   "id": "fb00250984d7411d"
  },
  {
   "cell_type": "code",
   "execution_count": 6,
   "outputs": [
    {
     "data": {
      "text/plain": "tensor([[1, 2, 3, 4, 5, 6]])"
     },
     "execution_count": 6,
     "metadata": {},
     "output_type": "execute_result"
    }
   ],
   "source": [
    "x1 = torch.tensor([[1,2,3]])\n",
    "x2 = torch.tensor([[4,5,6]])\n",
    "    \n",
    "torch.cat([x1,x2],dim=1)"
   ],
   "metadata": {
    "collapsed": false,
    "ExecuteTime": {
     "end_time": "2023-08-31T07:35:26.977522900Z",
     "start_time": "2023-08-31T07:35:26.884521300Z"
    }
   },
   "id": "a75413cd234bf3d3"
  },
  {
   "cell_type": "markdown",
   "source": [
    "## torch.full 生成张量"
   ],
   "metadata": {
    "collapsed": false
   },
   "id": "196b1bbf18bfa1e"
  },
  {
   "cell_type": "code",
   "execution_count": 12,
   "outputs": [
    {
     "data": {
      "text/plain": "10000"
     },
     "execution_count": 12,
     "metadata": {},
     "output_type": "execute_result"
    }
   ],
   "source": [
    "x = torch.full((1, 1),1_0000) \n",
    "torch.all(x > 1000)\n",
    "x[0].item()"
   ],
   "metadata": {
    "collapsed": false,
    "ExecuteTime": {
     "end_time": "2023-08-31T07:48:53.961627Z",
     "start_time": "2023-08-31T07:48:53.953619500Z"
    }
   },
   "id": "7bc057fad357fbbf"
  }
 ],
 "metadata": {
  "kernelspec": {
   "display_name": "Python 3",
   "language": "python",
   "name": "python3"
  },
  "language_info": {
   "codemirror_mode": {
    "name": "ipython",
    "version": 2
   },
   "file_extension": ".py",
   "mimetype": "text/x-python",
   "name": "python",
   "nbconvert_exporter": "python",
   "pygments_lexer": "ipython2",
   "version": "2.7.6"
  }
 },
 "nbformat": 4,
 "nbformat_minor": 5
}
