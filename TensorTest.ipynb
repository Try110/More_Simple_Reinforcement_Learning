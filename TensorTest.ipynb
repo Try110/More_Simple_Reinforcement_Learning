{
 "cells": [
  {
   "cell_type": "markdown",
   "source": [
    "## item()的使用"
   ],
   "metadata": {
    "collapsed": false
   },
   "id": "c7b642cde657ea8f"
  },
  {
   "cell_type": "code",
   "execution_count": 17,
   "id": "initial_id",
   "metadata": {
    "collapsed": true,
    "ExecuteTime": {
     "end_time": "2023-08-31T01:32:31.678502700Z",
     "start_time": "2023-08-31T01:32:31.653392500Z"
    }
   },
   "outputs": [
    {
     "data": {
      "text/plain": "1"
     },
     "execution_count": 17,
     "metadata": {},
     "output_type": "execute_result"
    }
   ],
   "source": [
    "import torch\n",
    "\n",
    "x = torch.tensor([1])\n",
    "x.item()"
   ]
  },
  {
   "cell_type": "markdown",
   "source": [
    "item只能再tensor长度为1的时候使用"
   ],
   "metadata": {
    "collapsed": false
   },
   "id": "43337114cdfb2a70"
  },
  {
   "cell_type": "markdown",
   "source": [
    "## torch.randn()正态分布采样"
   ],
   "metadata": {
    "collapsed": false
   },
   "id": "68b36a24c0345343"
  },
  {
   "cell_type": "code",
   "execution_count": 18,
   "outputs": [
    {
     "data": {
      "text/plain": "tensor([[ 0.9414,  0.8241, -0.3164],\n        [ 1.8790,  0.3306,  0.4425]])"
     },
     "execution_count": 18,
     "metadata": {},
     "output_type": "execute_result"
    }
   ],
   "source": [
    "torch.randn(2, 3)"
   ],
   "metadata": {
    "collapsed": false,
    "ExecuteTime": {
     "end_time": "2023-08-31T01:34:33.111434700Z",
     "start_time": "2023-08-31T01:34:33.093864400Z"
    }
   },
   "id": "4b161d3e9b770377"
  },
  {
   "cell_type": "markdown",
   "source": [
    "可用于测试网络的正常输入输出"
   ],
   "metadata": {
    "collapsed": false
   },
   "id": "79ae2d42a85a4d5d"
  },
  {
   "cell_type": "code",
   "execution_count": 20,
   "outputs": [
    {
     "data": {
      "text/plain": "1.028866911063954"
     },
     "execution_count": 20,
     "metadata": {},
     "output_type": "execute_result"
    }
   ],
   "source": [
    "import random\n",
    "random.normalvariate(1, 0.2)# 正态分布的随机数"
   ],
   "metadata": {
    "collapsed": false,
    "ExecuteTime": {
     "end_time": "2023-08-31T01:45:22.855409Z",
     "start_time": "2023-08-31T01:45:22.835335800Z"
    }
   },
   "id": "53bb93610fe6b1cd"
  },
  {
   "cell_type": "markdown",
   "source": [
    "## torch.cat函数 拼接tensor"
   ],
   "metadata": {
    "collapsed": false
   },
   "id": "fb00250984d7411d"
  },
  {
   "cell_type": "code",
   "execution_count": 27,
   "outputs": [
    {
     "data": {
      "text/plain": "tensor([[1, 2, 3, 4, 5, 6]])"
     },
     "execution_count": 27,
     "metadata": {},
     "output_type": "execute_result"
    }
   ],
   "source": [
    "x1 = torch.tensor([[1,2,3]])\n",
    "x2 = torch.tensor([[4,5,6]])\n",
    "    \n",
    "torch.cat([x1,x2],dim=1)"
   ],
   "metadata": {
    "collapsed": false,
    "ExecuteTime": {
     "end_time": "2023-08-31T02:11:45.992304Z",
     "start_time": "2023-08-31T02:11:45.976008Z"
    }
   },
   "id": "a75413cd234bf3d3"
  },
  {
   "cell_type": "code",
   "execution_count": null,
   "outputs": [],
   "source": [],
   "metadata": {
    "collapsed": false
   },
   "id": "7bc057fad357fbbf"
  }
 ],
 "metadata": {
  "kernelspec": {
   "display_name": "Python 3",
   "language": "python",
   "name": "python3"
  },
  "language_info": {
   "codemirror_mode": {
    "name": "ipython",
    "version": 2
   },
   "file_extension": ".py",
   "mimetype": "text/x-python",
   "name": "python",
   "nbconvert_exporter": "python",
   "pygments_lexer": "ipython2",
   "version": "2.7.6"
  }
 },
 "nbformat": 4,
 "nbformat_minor": 5
}
