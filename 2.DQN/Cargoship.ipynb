{
 "cells": [
  {
   "cell_type": "code",
   "execution_count": 15,
   "metadata": {},
   "outputs": [
    {
     "data": {
      "text/plain": [
       "array([[ 0,  1,  0,  3,  4],\n",
       "       [ 1,  5,  0,  7,  8],\n",
       "       [ 2,  9,  0, 11, 12]])"
      ]
     },
     "execution_count": 15,
     "metadata": {},
     "output_type": "execute_result"
    }
   ],
   "source": [
    "# 每一步的动作 负责把向量转化为方便运算的数据结构\n",
    "# 皮带机和\n",
    "from collections import namedtuple\n",
    "import numpy as np\n",
    "class PortCraneTask(\n",
    "    namedtuple('PortCraneTask',\n",
    "               'port_crane_index, weight, carbin_index, conveyor_system_index, conveyor_address_index'.split(', '))):\n",
    "    def __init__(self, *args):\n",
    "        # print(args)\n",
    "        super().__init__()\n",
    "\n",
    "    def __repr__(self):\n",
    "        return 'PortCraneTask(weight={}, carbin_index={}, conveyor_system_index={}, conveyor_address_index={})'.format(\n",
    "            self.weight, int(self.carbin_index), int(self.conveyor_system_index), int(self.conveyor_address_index))\n",
    "\n",
    "    # def toTaskByTime(self, start_time):\n",
    "    #     port_crane = PublicDataManager.port_crane_list[self.port_crane_index]\n",
    "    #     return TaskByTime(PublicTool.generate_random_ud64(30), start_time,\n",
    "    #                       start_time + self.weight / port_crane.get_carrying_capacity() * 60 * 60,\n",
    "    #                       port_crane,\n",
    "    #                       PublicDataManager.cargo_ship_list[0], int(self.carbin_index),\n",
    "    #                       PublicDataManager.conveyor_list[int(self.conveyor_system_index)],\n",
    "    #                       PublicDataManager.warehouse_quota_manager[int(self.conveyor_address_index)],\n",
    "    #                       port_crane.get_carrying_capacity())\n",
    "\n",
    "# 单步动作\n",
    "class Action:\n",
    "    def __init__(self,params_list):\n",
    "        # print(params_list)\n",
    "        self.port_crane_task_list = []\n",
    "        index = 0\n",
    "        params_list = [int(item) for item in params_list]\n",
    "        for i in range(0,len(params_list),len(PortCraneTask._fields)-1):\n",
    "            temp_list = [index, ] + params_list[i:i+len(PortCraneTask._fields)-1]\n",
    "            temp_port_crane_task = PortCraneTask(*tuple(temp_list))\n",
    "            self.port_crane_task_list.append(self.work_index(temp_port_crane_task))\n",
    "            index += 1\n",
    "    \n",
    "    def __str__(self) -> str:\n",
    "        return 'Action({})'.format(self.port_crane_task_list)\n",
    "    \n",
    "    def get_port_crane_task_list(self):\n",
    "        return self.port_crane_task_list\n",
    "    \n",
    "    def get_weight_count(self):\n",
    "        weight_count = 0\n",
    "        for port_crane_task in self.port_crane_task_list:\n",
    "            weight_count += port_crane_task.weight\n",
    "        return weight_count\n",
    "    \n",
    "    def work_index(self,portCrane_task):\n",
    "        # 处理索引 有的索引太大了\n",
    "        conveyor_system_index = portCrane_task.conveyor_system_index\n",
    "        carbin_index = portCrane_task.carbin_index\n",
    "        if carbin_index>800:\n",
    "            return PortCraneTask(portCrane_task.port_crane_index,portCrane_task.weight,8,portCrane_task.conveyor_system_index,portCrane_task.conveyor_address_index)\n",
    "        return PortCraneTask(portCrane_task.port_crane_index,portCrane_task.weight,portCrane_task.carbin_index//100,portCrane_task.conveyor_system_index,portCrane_task.conveyor_address_index)\n",
    "        \n",
    "    def to_array(self):\n",
    "        return np.array(self.port_crane_task_list)\n",
    "\n",
    "\n",
    "a = Action([1,2,3,4,5,6,7,8,9,10,11,12,])\n",
    "a.to_array()"
   ]
  },
  {
   "cell_type": "code",
   "execution_count": 16,
   "metadata": {},
   "outputs": [
    {
     "name": "stdout",
     "output_type": "stream",
     "text": [
      "State(cargo_ship_weight_list[1, 2, 3, 4, 5, 6, 7, 8, 9],port_crane_carring_list[10, 11, 12, 13])\n"
     ]
    }
   ],
   "source": [
    "import numpy as np\n",
    "\n",
    "class State:\n",
    "    def __init__(self,params_list):\n",
    "        self.cargo_ship_weight_list = []\n",
    "        self.port_crane_carring_list = []\n",
    "        self.from_array(params_list)\n",
    "\n",
    "    def __str__(self) -> str:\n",
    "        return 'State(cargo_ship_weight_list{},port_crane_carring_list{})'.format(self.cargo_ship_weight_list, self.port_crane_carring_list)\n",
    "    \n",
    "    def to_array(self):\n",
    "        return np.array(self.cargo_ship_weight_list + self.port_crane_carring_list)\n",
    "    \n",
    "    def from_array(self,array):\n",
    "        self.cargo_ship_weight_list = array[:9] # 假如是一个9编组的船\n",
    "        self.port_crane_carring_list = array[9:]# 港机的运输效率\n",
    "\n",
    "    def transite(self,action:Action):\n",
    "        # 状态转移\n",
    "        temp_time_list = []\n",
    "        for task in action.get_port_crane_task_list():\n",
    "            self.cargo_ship_weight_list[task.carbin_index] -= task.weight\n",
    "            temp_time_list.append(task.weight/self.port_crane_carring_list[task.port_crane_index])\n",
    "        return max(temp_time_list) * 60*60  # 返回使用的最长时间\n",
    "    \n",
    "    def is_empty(self):\n",
    "        return all([item <=0 for item in self.cargo_ship_weight_list])\n",
    "    \n",
    "s = State([1,2,3,4,5,6,7,8,9,10,11,12,13,])\n",
    "print(s)"
   ]
  },
  {
   "cell_type": "code",
   "execution_count": 17,
   "metadata": {},
   "outputs": [
    {
     "data": {
      "text/plain": [
       "<__main__.State at 0x24cf320a8b0>"
      ]
     },
     "execution_count": 17,
     "metadata": {},
     "output_type": "execute_result"
    }
   ],
   "source": [
    "from random import randint\n",
    "\n",
    "#定义环境\n",
    "class Environment:\n",
    "    def __init__(self):\n",
    "        self.state = None\n",
    "        self.time_spend = 0 # 使用的总共时间 要惩罚时间的\n",
    "        self.reset()\n",
    "    def reset(self):\n",
    "        self.state = State([randint(10000,30000) for i in range(9)] + [1500] * 3)\n",
    "        return self.state\n",
    "\n",
    "    def is_over(self):\n",
    "        return self.state.is_empty()\n",
    "\n",
    "    def get_state_reword(self,action):\n",
    "        # 当前状态的分数,比如为负数了还有人来卸载就应该扣分\n",
    "        weight = action.get_weight_count() #总共卸载的重量\n",
    "        reword = weight/1000\n",
    "        if self.is_over():\n",
    "            # 惩罚时间\n",
    "            reword += 1000 - self.time_spend /60/12\n",
    "        return reword\n",
    "\n",
    "    def step(self,action):\n",
    "        time_ = self.state.transite(action)\n",
    "        self.time_spend += time_\n",
    "        reword = self.get_state_reword(action)\n",
    "        return self.state,reword,self.is_over(),None\n",
    "    \n",
    "\n",
    "class MyWrapper:\n",
    "    def __init__(self):\n",
    "        self.env = Environment()\n",
    "        self.step_n = 0\n",
    "\n",
    "    def reset(self):\n",
    "        state = self.env.reset()\n",
    "        self.step_n = 0\n",
    "        return state\n",
    "\n",
    "    def step(self, action):\n",
    "        state, reward, terminated, info = self.env.step(action)\n",
    "        over = terminated\n",
    "        #限制最大步数\n",
    "        self.step_n += 1\n",
    "        if self.step_n > 20:\n",
    "            over = True\n",
    "\n",
    "        return state, reward, over\n",
    "env = MyWrapper()\n",
    "\n",
    "env.reset()\n",
    "\n"
   ]
  },
  {
   "cell_type": "code",
   "execution_count": 18,
   "metadata": {},
   "outputs": [
    {
     "data": {
      "text/plain": [
       "Sequential(\n",
       "  (0): Linear(in_features=12, out_features=384, bias=True)\n",
       "  (1): ReLU()\n",
       "  (2): Linear(in_features=384, out_features=384, bias=True)\n",
       "  (3): ReLU()\n",
       "  (4): Linear(in_features=384, out_features=12, bias=True)\n",
       "  (5): ReLU()\n",
       ")"
      ]
     },
     "execution_count": 18,
     "metadata": {},
     "output_type": "execute_result"
    }
   ],
   "source": [
    "import torch\n",
    "\n",
    "#定义模型,评估状态下每个动作的价值\n",
    "model = torch.nn.Sequential(\n",
    "    torch.nn.Linear(12, 6*64),\n",
    "    torch.nn.ReLU(),\n",
    "    torch.nn.Linear(6*64, 6*64),\n",
    "    torch.nn.ReLU(),\n",
    "    torch.nn.Linear(6*64, 12),\n",
    "    torch.nn.ReLU(),\n",
    ")\n",
    "\n",
    "model"
   ]
  },
  {
   "cell_type": "code",
   "execution_count": 19,
   "metadata": {},
   "outputs": [
    {
     "data": {
      "text/plain": [
       "64.08699999999999"
      ]
     },
     "execution_count": 19,
     "metadata": {},
     "output_type": "execute_result"
    }
   ],
   "source": [
    "from loguru import logger\n",
    "\n",
    "\n",
    "#玩一局游戏并记录数据\n",
    "def play(show=False):\n",
    "    data = []\n",
    "    reward_sum = 0\n",
    "\n",
    "    state = env.reset()\n",
    "    over = False\n",
    "    while not over:\n",
    "        \n",
    "        action = model(torch.FloatTensor(state.to_array()).reshape(1, 12))\n",
    "        # print(action)\n",
    "        next_state, reward, over = env.step(Action(list(action.detach().numpy())[0]))\n",
    "\n",
    "        data.append((state, action, reward, next_state, over))\n",
    "        reward_sum += reward\n",
    "\n",
    "        state = next_state\n",
    "\n",
    "        if show:\n",
    "            logger.info(f\"state: {state}, action: {action}, reward: {reward}, over: {over}\")\n",
    "\n",
    "    return data, reward_sum\n",
    "\n",
    "\n",
    "play()[-1]"
   ]
  },
  {
   "cell_type": "code",
   "execution_count": 20,
   "metadata": {},
   "outputs": [
    {
     "name": "stdout",
     "output_type": "stream",
     "text": [
      "data[0][1] tensor([[1911.6669,   87.6308,    0.0000,    0.0000, 1297.3422, 1592.2814,\n",
      "         1460.0532, 2403.9197,    0.0000,    0.0000, 1202.9396, 2914.6558]],\n",
      "       grad_fn=<ReluBackward0>)\n"
     ]
    },
    {
     "ename": "TypeError",
     "evalue": "only integer tensors of a single element can be converted to an index",
     "output_type": "error",
     "traceback": [
      "\u001b[1;31m---------------------------------------------------------------------------\u001b[0m",
      "\u001b[1;31mTypeError\u001b[0m                                 Traceback (most recent call last)",
      "Cell \u001b[1;32mIn[20], line 40\u001b[0m\n\u001b[0;32m     38\u001b[0m pool \u001b[39m=\u001b[39m Pool()\n\u001b[0;32m     39\u001b[0m pool\u001b[39m.\u001b[39mupdate()\n\u001b[1;32m---> 40\u001b[0m pool\u001b[39m.\u001b[39;49msample()\n\u001b[0;32m     42\u001b[0m \u001b[39mlen\u001b[39m(pool), pool[\u001b[39m0\u001b[39m]\n",
      "Cell \u001b[1;32mIn[20], line 30\u001b[0m, in \u001b[0;36mPool.sample\u001b[1;34m(self)\u001b[0m\n\u001b[0;32m     28\u001b[0m \u001b[39mprint\u001b[39m(\u001b[39m'\u001b[39m\u001b[39mdata[0][1]\u001b[39m\u001b[39m'\u001b[39m, data[\u001b[39m0\u001b[39m][\u001b[39m1\u001b[39m])\n\u001b[0;32m     29\u001b[0m state \u001b[39m=\u001b[39m torch\u001b[39m.\u001b[39mFloatTensor([i[\u001b[39m0\u001b[39m]\u001b[39m.\u001b[39mto_array() \u001b[39mfor\u001b[39;00m i \u001b[39min\u001b[39;00m data])\u001b[39m.\u001b[39mreshape(\u001b[39m-\u001b[39m\u001b[39m1\u001b[39m, \u001b[39m12\u001b[39m)\n\u001b[1;32m---> 30\u001b[0m action \u001b[39m=\u001b[39m torch\u001b[39m.\u001b[39;49mLongTensor([i[\u001b[39m1\u001b[39;49m] \u001b[39mfor\u001b[39;49;00m i \u001b[39min\u001b[39;49;00m data])\u001b[39m.\u001b[39mreshape(\u001b[39m-\u001b[39m\u001b[39m1\u001b[39m, \u001b[39m12\u001b[39m)\n\u001b[0;32m     31\u001b[0m reward \u001b[39m=\u001b[39m torch\u001b[39m.\u001b[39mFloatTensor([i[\u001b[39m2\u001b[39m] \u001b[39mfor\u001b[39;00m i \u001b[39min\u001b[39;00m data])\u001b[39m.\u001b[39mreshape(\u001b[39m-\u001b[39m\u001b[39m1\u001b[39m, \u001b[39m1\u001b[39m)\n\u001b[0;32m     32\u001b[0m next_state \u001b[39m=\u001b[39m torch\u001b[39m.\u001b[39mFloatTensor([i[\u001b[39m3\u001b[39m] \u001b[39mfor\u001b[39;00m i \u001b[39min\u001b[39;00m data])\u001b[39m.\u001b[39mreshape(\u001b[39m-\u001b[39m\u001b[39m1\u001b[39m, \u001b[39m12\u001b[39m)\n",
      "\u001b[1;31mTypeError\u001b[0m: only integer tensors of a single element can be converted to an index"
     ]
    }
   ],
   "source": [
    "import random\n",
    "\n",
    "#数据池\n",
    "class Pool:\n",
    "\n",
    "    def __init__(self):\n",
    "        self.pool = []\n",
    "\n",
    "    def __len__(self):\n",
    "        return len(self.pool)\n",
    "\n",
    "    def __getitem__(self, i):\n",
    "        return self.pool[i]\n",
    "\n",
    "    #更新动作池 多玩一些游戏\n",
    "    def update(self):\n",
    "        #每次更新不少于N条新数据\n",
    "        old_len = len(self.pool)\n",
    "        while len(pool) - old_len < 200:\n",
    "            self.pool.extend(play()[0])\n",
    "\n",
    "        #只保留最新的N条数据\n",
    "        self.pool = self.pool[-2_0000:]\n",
    "\n",
    "    #获取一批数据样本 从数据池种获取一些数据\n",
    "    def sample(self):\n",
    "        data = random.sample(self.pool, 64)\n",
    "        print('data[0][1]', data[0][1])\n",
    "        print(torch.LongTensor(data[0][1]))\n",
    "        state = torch.FloatTensor([i[0].to_array() for i in data]).reshape(-1, 12)\n",
    "        action = torch.LongTensor([i[1] for i in data]).reshape(-1, 12)\n",
    "        reward = torch.FloatTensor([i[2] for i in data]).reshape(-1, 1)\n",
    "        next_state = torch.FloatTensor([i[3] for i in data]).reshape(-1, 12)\n",
    "        over = torch.LongTensor([i[4] for i in data]).reshape(-1, 1)\n",
    "\n",
    "        return state, action, reward, next_state, over\n",
    "\n",
    "\n",
    "pool = Pool()\n",
    "pool.update()\n",
    "pool.sample()\n",
    "\n",
    "len(pool), pool[0]"
   ]
  }
 ],
 "metadata": {
  "kernelspec": {
   "display_name": "Python 3",
   "language": "python",
   "name": "python3"
  },
  "language_info": {
   "codemirror_mode": {
    "name": "ipython",
    "version": 3
   },
   "file_extension": ".py",
   "mimetype": "text/x-python",
   "name": "python",
   "nbconvert_exporter": "python",
   "pygments_lexer": "ipython3",
   "version": "3.9.7"
  },
  "orig_nbformat": 4
 },
 "nbformat": 4,
 "nbformat_minor": 2
}
